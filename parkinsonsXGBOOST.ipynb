{
 "cells": [
  {
   "cell_type": "code",
   "execution_count": 124,
   "id": "c1bd914e",
   "metadata": {},
   "outputs": [],
   "source": [
    "import pandas as pd \n",
    "import numpy as np \n",
    "import os\n",
    "from sklearn.preprocessing import MinMaxScaler\n",
    "from xgboost import XGBClassifier\n",
    "from sklearn.model_selection import train_test_split\n",
    "from sklearn.metrics import accuracy_score\n",
    "import matplotlib.pyplot as plt\n",
    "from keras.models import load_model\n",
    "from sklearn.model_selection import train_test_split\n",
    "from sklearn.metrics import accuracy_score"
   ]
  },
  {
   "cell_type": "code",
   "execution_count": 125,
   "id": "733d6271",
   "metadata": {},
   "outputs": [
    {
     "data": {
      "text/html": [
       "<div>\n",
       "<style scoped>\n",
       "    .dataframe tbody tr th:only-of-type {\n",
       "        vertical-align: middle;\n",
       "    }\n",
       "\n",
       "    .dataframe tbody tr th {\n",
       "        vertical-align: top;\n",
       "    }\n",
       "\n",
       "    .dataframe thead th {\n",
       "        text-align: right;\n",
       "    }\n",
       "</style>\n",
       "<table border=\"1\" class=\"dataframe\">\n",
       "  <thead>\n",
       "    <tr style=\"text-align: right;\">\n",
       "      <th></th>\n",
       "      <th>name</th>\n",
       "      <th>MDVP:Fo(Hz)</th>\n",
       "      <th>MDVP:Fhi(Hz)</th>\n",
       "      <th>MDVP:Flo(Hz)</th>\n",
       "      <th>MDVP:Jitter(%)</th>\n",
       "      <th>MDVP:Jitter(Abs)</th>\n",
       "      <th>MDVP:RAP</th>\n",
       "      <th>MDVP:PPQ</th>\n",
       "      <th>Jitter:DDP</th>\n",
       "      <th>MDVP:Shimmer</th>\n",
       "      <th>...</th>\n",
       "      <th>Shimmer:DDA</th>\n",
       "      <th>NHR</th>\n",
       "      <th>HNR</th>\n",
       "      <th>status</th>\n",
       "      <th>RPDE</th>\n",
       "      <th>DFA</th>\n",
       "      <th>spread1</th>\n",
       "      <th>spread2</th>\n",
       "      <th>D2</th>\n",
       "      <th>PPE</th>\n",
       "    </tr>\n",
       "  </thead>\n",
       "  <tbody>\n",
       "    <tr>\n",
       "      <th>0</th>\n",
       "      <td>phon_R01_S01_1</td>\n",
       "      <td>119.992</td>\n",
       "      <td>157.302</td>\n",
       "      <td>74.997</td>\n",
       "      <td>0.00784</td>\n",
       "      <td>0.00007</td>\n",
       "      <td>0.00370</td>\n",
       "      <td>0.00554</td>\n",
       "      <td>0.01109</td>\n",
       "      <td>0.04374</td>\n",
       "      <td>...</td>\n",
       "      <td>0.06545</td>\n",
       "      <td>0.02211</td>\n",
       "      <td>21.033</td>\n",
       "      <td>1</td>\n",
       "      <td>0.414783</td>\n",
       "      <td>0.815285</td>\n",
       "      <td>-4.813031</td>\n",
       "      <td>0.266482</td>\n",
       "      <td>2.301442</td>\n",
       "      <td>0.284654</td>\n",
       "    </tr>\n",
       "    <tr>\n",
       "      <th>1</th>\n",
       "      <td>phon_R01_S01_2</td>\n",
       "      <td>122.400</td>\n",
       "      <td>148.650</td>\n",
       "      <td>113.819</td>\n",
       "      <td>0.00968</td>\n",
       "      <td>0.00008</td>\n",
       "      <td>0.00465</td>\n",
       "      <td>0.00696</td>\n",
       "      <td>0.01394</td>\n",
       "      <td>0.06134</td>\n",
       "      <td>...</td>\n",
       "      <td>0.09403</td>\n",
       "      <td>0.01929</td>\n",
       "      <td>19.085</td>\n",
       "      <td>1</td>\n",
       "      <td>0.458359</td>\n",
       "      <td>0.819521</td>\n",
       "      <td>-4.075192</td>\n",
       "      <td>0.335590</td>\n",
       "      <td>2.486855</td>\n",
       "      <td>0.368674</td>\n",
       "    </tr>\n",
       "    <tr>\n",
       "      <th>2</th>\n",
       "      <td>phon_R01_S01_3</td>\n",
       "      <td>116.682</td>\n",
       "      <td>131.111</td>\n",
       "      <td>111.555</td>\n",
       "      <td>0.01050</td>\n",
       "      <td>0.00009</td>\n",
       "      <td>0.00544</td>\n",
       "      <td>0.00781</td>\n",
       "      <td>0.01633</td>\n",
       "      <td>0.05233</td>\n",
       "      <td>...</td>\n",
       "      <td>0.08270</td>\n",
       "      <td>0.01309</td>\n",
       "      <td>20.651</td>\n",
       "      <td>1</td>\n",
       "      <td>0.429895</td>\n",
       "      <td>0.825288</td>\n",
       "      <td>-4.443179</td>\n",
       "      <td>0.311173</td>\n",
       "      <td>2.342259</td>\n",
       "      <td>0.332634</td>\n",
       "    </tr>\n",
       "    <tr>\n",
       "      <th>3</th>\n",
       "      <td>phon_R01_S01_4</td>\n",
       "      <td>116.676</td>\n",
       "      <td>137.871</td>\n",
       "      <td>111.366</td>\n",
       "      <td>0.00997</td>\n",
       "      <td>0.00009</td>\n",
       "      <td>0.00502</td>\n",
       "      <td>0.00698</td>\n",
       "      <td>0.01505</td>\n",
       "      <td>0.05492</td>\n",
       "      <td>...</td>\n",
       "      <td>0.08771</td>\n",
       "      <td>0.01353</td>\n",
       "      <td>20.644</td>\n",
       "      <td>1</td>\n",
       "      <td>0.434969</td>\n",
       "      <td>0.819235</td>\n",
       "      <td>-4.117501</td>\n",
       "      <td>0.334147</td>\n",
       "      <td>2.405554</td>\n",
       "      <td>0.368975</td>\n",
       "    </tr>\n",
       "    <tr>\n",
       "      <th>4</th>\n",
       "      <td>phon_R01_S01_5</td>\n",
       "      <td>116.014</td>\n",
       "      <td>141.781</td>\n",
       "      <td>110.655</td>\n",
       "      <td>0.01284</td>\n",
       "      <td>0.00011</td>\n",
       "      <td>0.00655</td>\n",
       "      <td>0.00908</td>\n",
       "      <td>0.01966</td>\n",
       "      <td>0.06425</td>\n",
       "      <td>...</td>\n",
       "      <td>0.10470</td>\n",
       "      <td>0.01767</td>\n",
       "      <td>19.649</td>\n",
       "      <td>1</td>\n",
       "      <td>0.417356</td>\n",
       "      <td>0.823484</td>\n",
       "      <td>-3.747787</td>\n",
       "      <td>0.234513</td>\n",
       "      <td>2.332180</td>\n",
       "      <td>0.410335</td>\n",
       "    </tr>\n",
       "  </tbody>\n",
       "</table>\n",
       "<p>5 rows × 24 columns</p>\n",
       "</div>"
      ],
      "text/plain": [
       "             name  MDVP:Fo(Hz)  MDVP:Fhi(Hz)  MDVP:Flo(Hz)  MDVP:Jitter(%)  \\\n",
       "0  phon_R01_S01_1      119.992       157.302        74.997         0.00784   \n",
       "1  phon_R01_S01_2      122.400       148.650       113.819         0.00968   \n",
       "2  phon_R01_S01_3      116.682       131.111       111.555         0.01050   \n",
       "3  phon_R01_S01_4      116.676       137.871       111.366         0.00997   \n",
       "4  phon_R01_S01_5      116.014       141.781       110.655         0.01284   \n",
       "\n",
       "   MDVP:Jitter(Abs)  MDVP:RAP  MDVP:PPQ  Jitter:DDP  MDVP:Shimmer  ...  \\\n",
       "0           0.00007   0.00370   0.00554     0.01109       0.04374  ...   \n",
       "1           0.00008   0.00465   0.00696     0.01394       0.06134  ...   \n",
       "2           0.00009   0.00544   0.00781     0.01633       0.05233  ...   \n",
       "3           0.00009   0.00502   0.00698     0.01505       0.05492  ...   \n",
       "4           0.00011   0.00655   0.00908     0.01966       0.06425  ...   \n",
       "\n",
       "   Shimmer:DDA      NHR     HNR  status      RPDE       DFA   spread1  \\\n",
       "0      0.06545  0.02211  21.033       1  0.414783  0.815285 -4.813031   \n",
       "1      0.09403  0.01929  19.085       1  0.458359  0.819521 -4.075192   \n",
       "2      0.08270  0.01309  20.651       1  0.429895  0.825288 -4.443179   \n",
       "3      0.08771  0.01353  20.644       1  0.434969  0.819235 -4.117501   \n",
       "4      0.10470  0.01767  19.649       1  0.417356  0.823484 -3.747787   \n",
       "\n",
       "    spread2        D2       PPE  \n",
       "0  0.266482  2.301442  0.284654  \n",
       "1  0.335590  2.486855  0.368674  \n",
       "2  0.311173  2.342259  0.332634  \n",
       "3  0.334147  2.405554  0.368975  \n",
       "4  0.234513  2.332180  0.410335  \n",
       "\n",
       "[5 rows x 24 columns]"
      ]
     },
     "execution_count": 125,
     "metadata": {},
     "output_type": "execute_result"
    }
   ],
   "source": [
    "data = pd.read_csv(\"C:\\\\Users\\\\prasa\\\\Downloads\\\\parkinsons.data\")\n",
    "data.head()"
   ]
  },
  {
   "cell_type": "code",
   "execution_count": 126,
   "id": "9920eb84",
   "metadata": {},
   "outputs": [],
   "source": [
    "features = data.loc[:, data.columns != 'status'].values[:, 1:]\n",
    "labels = data.loc[:, 'status'].values"
   ]
  },
  {
   "cell_type": "code",
   "execution_count": 127,
   "id": "2f8b8aba",
   "metadata": {},
   "outputs": [
    {
     "data": {
      "text/plain": [
       "(147, 48)"
      ]
     },
     "execution_count": 127,
     "metadata": {},
     "output_type": "execute_result"
    }
   ],
   "source": [
    "labels[labels == 1].shape[0], labels[labels == 0].shape[0]"
   ]
  },
  {
   "cell_type": "code",
   "execution_count": 128,
   "id": "b2ddec77",
   "metadata": {},
   "outputs": [],
   "source": [
    "def warn(*args, **kwargs):\n",
    "    pass\n",
    "import warnings\n",
    "warnings.warn = warn\n",
    "warnings.filterwarnings(\"ignore\", category=DeprecationWarning)\n",
    "from sklearn.preprocessing import MinMaxScaler\n",
    "scaler = MinMaxScaler((-1, 1))\n",
    "X = scaler.fit_transform(features)\n",
    "Y = labels"
   ]
  },
  {
   "cell_type": "code",
   "execution_count": 129,
   "id": "120707d4",
   "metadata": {},
   "outputs": [],
   "source": [
    "from sklearn.model_selection import train_test_split\n",
    "from sklearn.metrics import accuracy_score\n",
    "X_train, X_test, Y_train, Y_test = train_test_split(X, Y, test_size=0.14, random_state=7)"
   ]
  },
  {
   "cell_type": "code",
   "execution_count": 131,
   "id": "c73f5bd1",
   "metadata": {},
   "outputs": [
    {
     "data": {
      "text/html": [
       "<style>#sk-container-id-10 {color: black;background-color: white;}#sk-container-id-10 pre{padding: 0;}#sk-container-id-10 div.sk-toggleable {background-color: white;}#sk-container-id-10 label.sk-toggleable__label {cursor: pointer;display: block;width: 100%;margin-bottom: 0;padding: 0.3em;box-sizing: border-box;text-align: center;}#sk-container-id-10 label.sk-toggleable__label-arrow:before {content: \"▸\";float: left;margin-right: 0.25em;color: #696969;}#sk-container-id-10 label.sk-toggleable__label-arrow:hover:before {color: black;}#sk-container-id-10 div.sk-estimator:hover label.sk-toggleable__label-arrow:before {color: black;}#sk-container-id-10 div.sk-toggleable__content {max-height: 0;max-width: 0;overflow: hidden;text-align: left;background-color: #f0f8ff;}#sk-container-id-10 div.sk-toggleable__content pre {margin: 0.2em;color: black;border-radius: 0.25em;background-color: #f0f8ff;}#sk-container-id-10 input.sk-toggleable__control:checked~div.sk-toggleable__content {max-height: 200px;max-width: 100%;overflow: auto;}#sk-container-id-10 input.sk-toggleable__control:checked~label.sk-toggleable__label-arrow:before {content: \"▾\";}#sk-container-id-10 div.sk-estimator input.sk-toggleable__control:checked~label.sk-toggleable__label {background-color: #d4ebff;}#sk-container-id-10 div.sk-label input.sk-toggleable__control:checked~label.sk-toggleable__label {background-color: #d4ebff;}#sk-container-id-10 input.sk-hidden--visually {border: 0;clip: rect(1px 1px 1px 1px);clip: rect(1px, 1px, 1px, 1px);height: 1px;margin: -1px;overflow: hidden;padding: 0;position: absolute;width: 1px;}#sk-container-id-10 div.sk-estimator {font-family: monospace;background-color: #f0f8ff;border: 1px dotted black;border-radius: 0.25em;box-sizing: border-box;margin-bottom: 0.5em;}#sk-container-id-10 div.sk-estimator:hover {background-color: #d4ebff;}#sk-container-id-10 div.sk-parallel-item::after {content: \"\";width: 100%;border-bottom: 1px solid gray;flex-grow: 1;}#sk-container-id-10 div.sk-label:hover label.sk-toggleable__label {background-color: #d4ebff;}#sk-container-id-10 div.sk-serial::before {content: \"\";position: absolute;border-left: 1px solid gray;box-sizing: border-box;top: 0;bottom: 0;left: 50%;z-index: 0;}#sk-container-id-10 div.sk-serial {display: flex;flex-direction: column;align-items: center;background-color: white;padding-right: 0.2em;padding-left: 0.2em;position: relative;}#sk-container-id-10 div.sk-item {position: relative;z-index: 1;}#sk-container-id-10 div.sk-parallel {display: flex;align-items: stretch;justify-content: center;background-color: white;position: relative;}#sk-container-id-10 div.sk-item::before, #sk-container-id-10 div.sk-parallel-item::before {content: \"\";position: absolute;border-left: 1px solid gray;box-sizing: border-box;top: 0;bottom: 0;left: 50%;z-index: -1;}#sk-container-id-10 div.sk-parallel-item {display: flex;flex-direction: column;z-index: 1;position: relative;background-color: white;}#sk-container-id-10 div.sk-parallel-item:first-child::after {align-self: flex-end;width: 50%;}#sk-container-id-10 div.sk-parallel-item:last-child::after {align-self: flex-start;width: 50%;}#sk-container-id-10 div.sk-parallel-item:only-child::after {width: 0;}#sk-container-id-10 div.sk-dashed-wrapped {border: 1px dashed gray;margin: 0 0.4em 0.5em 0.4em;box-sizing: border-box;padding-bottom: 0.4em;background-color: white;}#sk-container-id-10 div.sk-label label {font-family: monospace;font-weight: bold;display: inline-block;line-height: 1.2em;}#sk-container-id-10 div.sk-label-container {text-align: center;}#sk-container-id-10 div.sk-container {/* jupyter's `normalize.less` sets `[hidden] { display: none; }` but bootstrap.min.css set `[hidden] { display: none !important; }` so we also need the `!important` here to be able to override the default hidden behavior on the sphinx rendered scikit-learn.org. See: https://github.com/scikit-learn/scikit-learn/issues/21755 */display: inline-block !important;position: relative;}#sk-container-id-10 div.sk-text-repr-fallback {display: none;}</style><div id=\"sk-container-id-10\" class=\"sk-top-container\"><div class=\"sk-text-repr-fallback\"><pre>XGBClassifier(base_score=0.5, booster=&#x27;gbtree&#x27;, callbacks=None,\n",
       "              colsample_bylevel=1, colsample_bynode=1, colsample_bytree=1,\n",
       "              early_stopping_rounds=None, enable_categorical=False,\n",
       "              eval_metric=None, gamma=0, gpu_id=-1, grow_policy=&#x27;depthwise&#x27;,\n",
       "              importance_type=None, interaction_constraints=&#x27;&#x27;,\n",
       "              learning_rate=0.300000012, max_bin=256, max_cat_to_onehot=4,\n",
       "              max_delta_step=0, max_depth=6, max_leaves=0, min_child_weight=1,\n",
       "              missing=nan, monotone_constraints=&#x27;()&#x27;, n_estimators=100,\n",
       "              n_jobs=0, num_parallel_tree=1, predictor=&#x27;auto&#x27;, random_state=0,\n",
       "              reg_alpha=0, reg_lambda=1, ...)</pre><b>In a Jupyter environment, please rerun this cell to show the HTML representation or trust the notebook. <br />On GitHub, the HTML representation is unable to render, please try loading this page with nbviewer.org.</b></div><div class=\"sk-container\" hidden><div class=\"sk-item\"><div class=\"sk-estimator sk-toggleable\"><input class=\"sk-toggleable__control sk-hidden--visually\" id=\"sk-estimator-id-10\" type=\"checkbox\" checked><label for=\"sk-estimator-id-10\" class=\"sk-toggleable__label sk-toggleable__label-arrow\">XGBClassifier</label><div class=\"sk-toggleable__content\"><pre>XGBClassifier(base_score=0.5, booster=&#x27;gbtree&#x27;, callbacks=None,\n",
       "              colsample_bylevel=1, colsample_bynode=1, colsample_bytree=1,\n",
       "              early_stopping_rounds=None, enable_categorical=False,\n",
       "              eval_metric=None, gamma=0, gpu_id=-1, grow_policy=&#x27;depthwise&#x27;,\n",
       "              importance_type=None, interaction_constraints=&#x27;&#x27;,\n",
       "              learning_rate=0.300000012, max_bin=256, max_cat_to_onehot=4,\n",
       "              max_delta_step=0, max_depth=6, max_leaves=0, min_child_weight=1,\n",
       "              missing=nan, monotone_constraints=&#x27;()&#x27;, n_estimators=100,\n",
       "              n_jobs=0, num_parallel_tree=1, predictor=&#x27;auto&#x27;, random_state=0,\n",
       "              reg_alpha=0, reg_lambda=1, ...)</pre></div></div></div></div></div>"
      ],
      "text/plain": [
       "XGBClassifier(base_score=0.5, booster='gbtree', callbacks=None,\n",
       "              colsample_bylevel=1, colsample_bynode=1, colsample_bytree=1,\n",
       "              early_stopping_rounds=None, enable_categorical=False,\n",
       "              eval_metric=None, gamma=0, gpu_id=-1, grow_policy='depthwise',\n",
       "              importance_type=None, interaction_constraints='',\n",
       "              learning_rate=0.300000012, max_bin=256, max_cat_to_onehot=4,\n",
       "              max_delta_step=0, max_depth=6, max_leaves=0, min_child_weight=1,\n",
       "              missing=nan, monotone_constraints='()', n_estimators=100,\n",
       "              n_jobs=0, num_parallel_tree=1, predictor='auto', random_state=0,\n",
       "              reg_alpha=0, reg_lambda=1, ...)"
      ]
     },
     "execution_count": 131,
     "metadata": {},
     "output_type": "execute_result"
    }
   ],
   "source": [
    "# Train\n",
    "model = XGBClassifier()\n",
    "model.fit(X_train, Y_train)"
   ]
  },
  {
   "cell_type": "code",
   "execution_count": 118,
   "id": "0a8f59f3",
   "metadata": {},
   "outputs": [
    {
     "name": "stdout",
     "output_type": "stream",
     "text": [
      "Accuracy is 0.9285714285714286\n",
      "Full test Accuracy 0.9897435897435898\n"
     ]
    }
   ],
   "source": [
    "# Evaluate\n",
    "Y_hat = [round(yhat) for yhat in model.predict(X_test)]\n",
    "print(\"Accuracy is\",accuracy_score(Y_test, Y_hat)) # Test set accuracy\n",
    "Y_hat = [round(yhat) for yhat in model.predict(X)]\n",
    "print(\"Full test Accuracy\", accuracy_score(Y, Y_hat)) # Full set accuracy"
   ]
  },
  {
   "cell_type": "code",
   "execution_count": 136,
   "id": "2a5b21e5",
   "metadata": {},
   "outputs": [
    {
     "name": "stdout",
     "output_type": "stream",
     "text": [
      "Classification error is 0.01025641025641022\n"
     ]
    },
    {
     "data": {
      "text/plain": [
       "<BarContainer object of 2 artists>"
      ]
     },
     "execution_count": 136,
     "metadata": {},
     "output_type": "execute_result"
    },
    {
     "data": {
      "image/png": "[encoded data removed]",
      "text/plain": [
       "<Figure size 360x360 with 1 Axes>"
      ]
     },
     "metadata": {
      "needs_background": "light"
     },
     "output_type": "display_data"
    }
   ],
   "source": [
    "#classification error\n",
    "accuracy = accuracy_score(Y, Y_hat)\n",
    "classification_error = 1- accuracy_score(Y, Y_hat, normalize = True)\n",
    "print(\"Classification error is\", classification_error)\n",
    "\n",
    "results =[]\n",
    "results.append(classification_error)\n",
    "\n",
    "list2 = [\"accuracy\" , \"classifiacation_error\"]\n",
    "import matplotlib.pyplot as plt\n",
    "fig = plt.figure(figsize = (5, 5))\n",
    "plt.bar(list2 , results )"
   ]
  },
  {
   "cell_type": "code",
   "execution_count": 94,
   "id": "7eb837ac",
   "metadata": {},
   "outputs": [
    {
     "data": {
      "text/html": [
       "<div>\n",
       "<style scoped>\n",
       "    .dataframe tbody tr th:only-of-type {\n",
       "        vertical-align: middle;\n",
       "    }\n",
       "\n",
       "    .dataframe tbody tr th {\n",
       "        vertical-align: top;\n",
       "    }\n",
       "\n",
       "    .dataframe thead th {\n",
       "        text-align: right;\n",
       "    }\n",
       "</style>\n",
       "<table border=\"1\" class=\"dataframe\">\n",
       "  <thead>\n",
       "    <tr style=\"text-align: right;\">\n",
       "      <th></th>\n",
       "      <th>subject#</th>\n",
       "      <th>age</th>\n",
       "      <th>sex</th>\n",
       "      <th>test_time</th>\n",
       "      <th>motor_UPDRS</th>\n",
       "      <th>total_UPDRS</th>\n",
       "      <th>Jitter(%)</th>\n",
       "      <th>Jitter(Abs)</th>\n",
       "      <th>Jitter:RAP</th>\n",
       "      <th>Jitter:PPQ5</th>\n",
       "      <th>...</th>\n",
       "      <th>Shimmer(dB)</th>\n",
       "      <th>Shimmer:APQ3</th>\n",
       "      <th>Shimmer:APQ5</th>\n",
       "      <th>Shimmer:APQ11</th>\n",
       "      <th>Shimmer:DDA</th>\n",
       "      <th>NHR</th>\n",
       "      <th>HNR</th>\n",
       "      <th>RPDE</th>\n",
       "      <th>DFA</th>\n",
       "      <th>PPE</th>\n",
       "    </tr>\n",
       "  </thead>\n",
       "  <tbody>\n",
       "    <tr>\n",
       "      <th>0</th>\n",
       "      <td>1</td>\n",
       "      <td>72</td>\n",
       "      <td>0</td>\n",
       "      <td>5.6431</td>\n",
       "      <td>28.199</td>\n",
       "      <td>34.398</td>\n",
       "      <td>0.00662</td>\n",
       "      <td>0.000034</td>\n",
       "      <td>0.00401</td>\n",
       "      <td>0.00317</td>\n",
       "      <td>...</td>\n",
       "      <td>0.230</td>\n",
       "      <td>0.01438</td>\n",
       "      <td>0.01309</td>\n",
       "      <td>0.01662</td>\n",
       "      <td>0.04314</td>\n",
       "      <td>0.014290</td>\n",
       "      <td>21.640</td>\n",
       "      <td>0.41888</td>\n",
       "      <td>0.54842</td>\n",
       "      <td>0.16006</td>\n",
       "    </tr>\n",
       "    <tr>\n",
       "      <th>1</th>\n",
       "      <td>1</td>\n",
       "      <td>72</td>\n",
       "      <td>0</td>\n",
       "      <td>12.6660</td>\n",
       "      <td>28.447</td>\n",
       "      <td>34.894</td>\n",
       "      <td>0.00300</td>\n",
       "      <td>0.000017</td>\n",
       "      <td>0.00132</td>\n",
       "      <td>0.00150</td>\n",
       "      <td>...</td>\n",
       "      <td>0.179</td>\n",
       "      <td>0.00994</td>\n",
       "      <td>0.01072</td>\n",
       "      <td>0.01689</td>\n",
       "      <td>0.02982</td>\n",
       "      <td>0.011112</td>\n",
       "      <td>27.183</td>\n",
       "      <td>0.43493</td>\n",
       "      <td>0.56477</td>\n",
       "      <td>0.10810</td>\n",
       "    </tr>\n",
       "    <tr>\n",
       "      <th>2</th>\n",
       "      <td>1</td>\n",
       "      <td>72</td>\n",
       "      <td>0</td>\n",
       "      <td>19.6810</td>\n",
       "      <td>28.695</td>\n",
       "      <td>35.389</td>\n",
       "      <td>0.00481</td>\n",
       "      <td>0.000025</td>\n",
       "      <td>0.00205</td>\n",
       "      <td>0.00208</td>\n",
       "      <td>...</td>\n",
       "      <td>0.181</td>\n",
       "      <td>0.00734</td>\n",
       "      <td>0.00844</td>\n",
       "      <td>0.01458</td>\n",
       "      <td>0.02202</td>\n",
       "      <td>0.020220</td>\n",
       "      <td>23.047</td>\n",
       "      <td>0.46222</td>\n",
       "      <td>0.54405</td>\n",
       "      <td>0.21014</td>\n",
       "    </tr>\n",
       "    <tr>\n",
       "      <th>3</th>\n",
       "      <td>1</td>\n",
       "      <td>72</td>\n",
       "      <td>0</td>\n",
       "      <td>25.6470</td>\n",
       "      <td>28.905</td>\n",
       "      <td>35.810</td>\n",
       "      <td>0.00528</td>\n",
       "      <td>0.000027</td>\n",
       "      <td>0.00191</td>\n",
       "      <td>0.00264</td>\n",
       "      <td>...</td>\n",
       "      <td>0.327</td>\n",
       "      <td>0.01106</td>\n",
       "      <td>0.01265</td>\n",
       "      <td>0.01963</td>\n",
       "      <td>0.03317</td>\n",
       "      <td>0.027837</td>\n",
       "      <td>24.445</td>\n",
       "      <td>0.48730</td>\n",
       "      <td>0.57794</td>\n",
       "      <td>0.33277</td>\n",
       "    </tr>\n",
       "    <tr>\n",
       "      <th>4</th>\n",
       "      <td>1</td>\n",
       "      <td>72</td>\n",
       "      <td>0</td>\n",
       "      <td>33.6420</td>\n",
       "      <td>29.187</td>\n",
       "      <td>36.375</td>\n",
       "      <td>0.00335</td>\n",
       "      <td>0.000020</td>\n",
       "      <td>0.00093</td>\n",
       "      <td>0.00130</td>\n",
       "      <td>...</td>\n",
       "      <td>0.176</td>\n",
       "      <td>0.00679</td>\n",
       "      <td>0.00929</td>\n",
       "      <td>0.01819</td>\n",
       "      <td>0.02036</td>\n",
       "      <td>0.011625</td>\n",
       "      <td>26.126</td>\n",
       "      <td>0.47188</td>\n",
       "      <td>0.56122</td>\n",
       "      <td>0.19361</td>\n",
       "    </tr>\n",
       "  </tbody>\n",
       "</table>\n",
       "<p>5 rows × 22 columns</p>\n",
       "</div>"
      ],
      "text/plain": [
       "   subject#  age  sex  test_time  motor_UPDRS  total_UPDRS  Jitter(%)  \\\n",
       "0         1   72    0     5.6431       28.199       34.398    0.00662   \n",
       "1         1   72    0    12.6660       28.447       34.894    0.00300   \n",
       "2         1   72    0    19.6810       28.695       35.389    0.00481   \n",
       "3         1   72    0    25.6470       28.905       35.810    0.00528   \n",
       "4         1   72    0    33.6420       29.187       36.375    0.00335   \n",
       "\n",
       "   Jitter(Abs)  Jitter:RAP  Jitter:PPQ5  ...  Shimmer(dB)  Shimmer:APQ3  \\\n",
       "0     0.000034     0.00401      0.00317  ...        0.230       0.01438   \n",
       "1     0.000017     0.00132      0.00150  ...        0.179       0.00994   \n",
       "2     0.000025     0.00205      0.00208  ...        0.181       0.00734   \n",
       "3     0.000027     0.00191      0.00264  ...        0.327       0.01106   \n",
       "4     0.000020     0.00093      0.00130  ...        0.176       0.00679   \n",
       "\n",
       "   Shimmer:APQ5  Shimmer:APQ11  Shimmer:DDA       NHR     HNR     RPDE  \\\n",
       "0       0.01309        0.01662      0.04314  0.014290  21.640  0.41888   \n",
       "1       0.01072        0.01689      0.02982  0.011112  27.183  0.43493   \n",
       "2       0.00844        0.01458      0.02202  0.020220  23.047  0.46222   \n",
       "3       0.01265        0.01963      0.03317  0.027837  24.445  0.48730   \n",
       "4       0.00929        0.01819      0.02036  0.011625  26.126  0.47188   \n",
       "\n",
       "       DFA      PPE  \n",
       "0  0.54842  0.16006  \n",
       "1  0.56477  0.10810  \n",
       "2  0.54405  0.21014  \n",
       "3  0.57794  0.33277  \n",
       "4  0.56122  0.19361  \n",
       "\n",
       "[5 rows x 22 columns]"
      ]
     },
     "execution_count": 94,
     "metadata": {},
     "output_type": "execute_result"
    }
   ],
   "source": [
    "rs = pd.read_csv('C:\\\\Users\\prasa\\Downloads\\\\parkinsons_updrs.data')\n",
    "rs.head()"
   ]
  },
  {
   "cell_type": "code",
   "execution_count": 95,
   "id": "4b942c93",
   "metadata": {},
   "outputs": [],
   "source": [
    "features = rs.loc[:, (rs.columns != 'motor_UPDRS') & (rs.columns != 'total_UPDRS')].values[:, 1:]\n",
    "labels = rs.loc[:, (rs.columns == 'motor_UPDRS') | (rs.columns == 'total_UPDRS')].values"
   ]
  },
  {
   "cell_type": "code",
   "execution_count": 96,
   "id": "1b4bee9d",
   "metadata": {},
   "outputs": [],
   "source": [
    "X = scaler.fit_transform(features)\n",
    "Y = scaler.fit_transform(labels)"
   ]
  },
  {
   "cell_type": "code",
   "execution_count": 97,
   "id": "6af7c410",
   "metadata": {},
   "outputs": [],
   "source": [
    "X_train, X_test, Y_train, Y_test = train_test_split(X, Y, test_size=0.1, random_state=7)"
   ]
  },
  {
   "cell_type": "code",
   "execution_count": 98,
   "id": "b42c9a76",
   "metadata": {},
   "outputs": [],
   "source": [
    "from keras.models import Sequential\n",
    "from keras.layers import Dense, LSTM"
   ]
  },
  {
   "cell_type": "code",
   "execution_count": 99,
   "id": "6dc3afd0",
   "metadata": {},
   "outputs": [
    {
     "name": "stdout",
     "output_type": "stream",
     "text": [
      "Epoch 1/5\n",
      "3965/3965 [==============================] - 6s 1ms/step - loss: 0.1992 - val_loss: 0.1870\n",
      "Epoch 2/5\n",
      "3965/3965 [==============================] - 5s 1ms/step - loss: 0.1828 - val_loss: 0.1814\n",
      "Epoch 3/5\n",
      "3965/3965 [==============================] - 5s 1ms/step - loss: 0.1719 - val_loss: 0.1674\n",
      "Epoch 4/5\n",
      "3965/3965 [==============================] - 5s 1ms/step - loss: 0.1556 - val_loss: 0.1444\n",
      "Epoch 5/5\n",
      "3965/3965 [==============================] - 5s 1ms/step - loss: 0.1448 - val_loss: 0.1580\n"
     ]
    },
    {
     "data": {
      "text/plain": [
       "<keras.callbacks.History at 0x18790ac7e80>"
      ]
     },
     "execution_count": 99,
     "metadata": {},
     "output_type": "execute_result"
    }
   ],
   "source": [
    "u_model = Sequential()\n",
    "u_model.add(Dense(32, input_shape=(X.shape[1],)))\n",
    "u_model.add(Dense(16, activation='tanh'))\n",
    "u_model.add(Dense(8, activation='tanh'))\n",
    "u_model.add(Dense(72, activation='tanh'))\n",
    "u_model.add(Dense(Y.shape[1], activation='tanh'))\n",
    "u_model.compile(optimizer='sgd', loss='mean_squared_error')\n",
    "u_model.fit(X_train, Y_train, batch_size=1, epochs=5, validation_split=0.25, shuffle=True)"
   ]
  },
  {
   "cell_type": "code",
   "execution_count": 100,
   "id": "bee487a9",
   "metadata": {},
   "outputs": [
    {
     "name": "stdout",
     "output_type": "stream",
     "text": [
      "Epoch 1/15\n",
      "3965/3965 [==============================] - 5s 1ms/step - loss: 0.1400 - val_loss: 0.1424\n",
      "Epoch 2/15\n",
      "3965/3965 [==============================] - 5s 1ms/step - loss: 0.1324 - val_loss: 0.1252\n",
      "Epoch 3/15\n",
      "3965/3965 [==============================] - 5s 1ms/step - loss: 0.1285 - val_loss: 0.1575\n",
      "Epoch 4/15\n",
      "3965/3965 [==============================] - 4s 1ms/step - loss: 0.1219 - val_loss: 0.1243\n",
      "Epoch 5/15\n",
      "3965/3965 [==============================] - 5s 1ms/step - loss: 0.1209 - val_loss: 0.1161\n",
      "Epoch 6/15\n",
      "3965/3965 [==============================] - 5s 1ms/step - loss: 0.1165 - val_loss: 0.1163\n",
      "Epoch 7/15\n",
      "3965/3965 [==============================] - 5s 1ms/step - loss: 0.1145 - val_loss: 0.1134\n",
      "Epoch 8/15\n",
      "3965/3965 [==============================] - 5s 1ms/step - loss: 0.1120 - val_loss: 0.1045\n",
      "Epoch 9/15\n",
      "3965/3965 [==============================] - 5s 1ms/step - loss: 0.1092 - val_loss: 0.1107\n",
      "Epoch 10/15\n",
      "3965/3965 [==============================] - 5s 1ms/step - loss: 0.1075 - val_loss: 0.1090\n",
      "Epoch 11/15\n",
      "3965/3965 [==============================] - 5s 1ms/step - loss: 0.1058 - val_loss: 0.1109\n",
      "Epoch 12/15\n",
      "3965/3965 [==============================] - 5s 1ms/step - loss: 0.1045 - val_loss: 0.1018\n",
      "Epoch 13/15\n",
      "3965/3965 [==============================] - 5s 1ms/step - loss: 0.1022 - val_loss: 0.0961\n",
      "Epoch 14/15\n",
      "3965/3965 [==============================] - 5s 1ms/step - loss: 0.0998 - val_loss: 0.1083\n",
      "Epoch 15/15\n",
      "3965/3965 [==============================] - 5s 1ms/step - loss: 0.0996 - val_loss: 0.1056\n"
     ]
    },
    {
     "data": {
      "text/plain": [
       "<keras.callbacks.History at 0x1879e2a9f70>"
      ]
     },
     "execution_count": 100,
     "metadata": {},
     "output_type": "execute_result"
    }
   ],
   "source": [
    "u_model.fit(X_train, Y_train, batch_size=1, epochs=15, validation_split=0.25, shuffle=True)"
   ]
  },
  {
   "cell_type": "code",
   "execution_count": 101,
   "id": "80337876",
   "metadata": {},
   "outputs": [
    {
     "name": "stdout",
     "output_type": "stream",
     "text": [
      "Epoch 1/75\n",
      "3965/3965 [==============================] - 5s 1ms/step - loss: 0.0958 - val_loss: 0.1389\n",
      "Epoch 2/75\n",
      "3965/3965 [==============================] - 5s 1ms/step - loss: 0.0960 - val_loss: 0.0913\n",
      "Epoch 3/75\n",
      "3965/3965 [==============================] - 5s 1ms/step - loss: 0.0940 - val_loss: 0.1032\n",
      "Epoch 4/75\n",
      "3965/3965 [==============================] - 6s 1ms/step - loss: 0.0935 - val_loss: 0.0977\n",
      "Epoch 5/75\n",
      "3965/3965 [==============================] - 5s 1ms/step - loss: 0.0925 - val_loss: 0.0978\n",
      "Epoch 6/75\n",
      "3965/3965 [==============================] - 5s 1ms/step - loss: 0.0903 - val_loss: 0.1051\n",
      "Epoch 7/75\n",
      "3965/3965 [==============================] - 5s 1ms/step - loss: 0.0892 - val_loss: 0.0958\n",
      "Epoch 8/75\n",
      "3965/3965 [==============================] - 5s 1ms/step - loss: 0.0889 - val_loss: 0.0896\n",
      "Epoch 9/75\n",
      "3965/3965 [==============================] - 5s 1ms/step - loss: 0.0862 - val_loss: 0.0976\n",
      "Epoch 10/75\n",
      "3965/3965 [==============================] - 5s 1ms/step - loss: 0.0861 - val_loss: 0.1058\n",
      "Epoch 11/75\n",
      "3965/3965 [==============================] - 5s 1ms/step - loss: 0.0856 - val_loss: 0.0817\n",
      "Epoch 12/75\n",
      "3965/3965 [==============================] - 5s 1ms/step - loss: 0.0836 - val_loss: 0.0853\n",
      "Epoch 13/75\n",
      "3965/3965 [==============================] - 5s 1ms/step - loss: 0.0843 - val_loss: 0.0912\n",
      "Epoch 14/75\n",
      "3965/3965 [==============================] - 5s 1ms/step - loss: 0.0844 - val_loss: 0.0832\n",
      "Epoch 15/75\n",
      "3965/3965 [==============================] - 5s 1ms/step - loss: 0.0833 - val_loss: 0.0896\n",
      "Epoch 16/75\n",
      "3965/3965 [==============================] - 5s 1ms/step - loss: 0.0806 - val_loss: 0.0814\n",
      "Epoch 17/75\n",
      "3965/3965 [==============================] - 5s 1ms/step - loss: 0.0819 - val_loss: 0.0844\n",
      "Epoch 18/75\n",
      "3965/3965 [==============================] - 5s 1ms/step - loss: 0.0806 - val_loss: 0.0803\n",
      "Epoch 19/75\n",
      "3965/3965 [==============================] - 5s 1ms/step - loss: 0.0782 - val_loss: 0.0886\n",
      "Epoch 20/75\n",
      "3965/3965 [==============================] - 5s 1ms/step - loss: 0.0802 - val_loss: 0.0781\n",
      "Epoch 21/75\n",
      "3965/3965 [==============================] - 5s 1ms/step - loss: 0.0784 - val_loss: 0.0911\n",
      "Epoch 22/75\n",
      "3965/3965 [==============================] - 5s 1ms/step - loss: 0.0773 - val_loss: 0.0810\n",
      "Epoch 23/75\n",
      "3965/3965 [==============================] - 5s 1ms/step - loss: 0.0769 - val_loss: 0.0809\n",
      "Epoch 24/75\n",
      "3965/3965 [==============================] - 5s 1ms/step - loss: 0.0755 - val_loss: 0.0735\n",
      "Epoch 25/75\n",
      "3965/3965 [==============================] - 5s 1ms/step - loss: 0.0752 - val_loss: 0.0792\n",
      "Epoch 26/75\n",
      "3965/3965 [==============================] - 5s 1ms/step - loss: 0.0744 - val_loss: 0.0952\n",
      "Epoch 27/75\n",
      "3965/3965 [==============================] - 5s 1ms/step - loss: 0.0752 - val_loss: 0.0730\n",
      "Epoch 28/75\n",
      "3965/3965 [==============================] - 5s 1ms/step - loss: 0.0752 - val_loss: 0.0745\n",
      "Epoch 29/75\n",
      "3965/3965 [==============================] - 5s 1ms/step - loss: 0.0737 - val_loss: 0.0771\n",
      "Epoch 30/75\n",
      "3965/3965 [==============================] - 5s 1ms/step - loss: 0.0741 - val_loss: 0.0764\n",
      "Epoch 31/75\n",
      "3965/3965 [==============================] - 5s 1ms/step - loss: 0.0720 - val_loss: 0.0799\n",
      "Epoch 32/75\n",
      "3965/3965 [==============================] - 5s 1ms/step - loss: 0.0728 - val_loss: 0.0796\n",
      "Epoch 33/75\n",
      "3965/3965 [==============================] - 5s 1ms/step - loss: 0.0720 - val_loss: 0.0735\n",
      "Epoch 34/75\n",
      "3965/3965 [==============================] - 5s 1ms/step - loss: 0.0716 - val_loss: 0.0735\n",
      "Epoch 35/75\n",
      "3965/3965 [==============================] - 5s 1ms/step - loss: 0.0707 - val_loss: 0.0755\n",
      "Epoch 36/75\n",
      "3965/3965 [==============================] - 5s 1ms/step - loss: 0.0703 - val_loss: 0.0784\n",
      "Epoch 37/75\n",
      "3965/3965 [==============================] - 5s 1ms/step - loss: 0.0707 - val_loss: 0.0679\n",
      "Epoch 38/75\n",
      "3965/3965 [==============================] - 5s 1ms/step - loss: 0.0717 - val_loss: 0.0704\n",
      "Epoch 39/75\n",
      "3965/3965 [==============================] - 5s 1ms/step - loss: 0.0696 - val_loss: 0.0750\n",
      "Epoch 40/75\n",
      "3965/3965 [==============================] - 5s 1ms/step - loss: 0.0691 - val_loss: 0.0672\n",
      "Epoch 41/75\n",
      "3965/3965 [==============================] - 5s 1ms/step - loss: 0.0681 - val_loss: 0.0695\n",
      "Epoch 42/75\n",
      "3965/3965 [==============================] - 5s 1ms/step - loss: 0.0684 - val_loss: 0.0713\n",
      "Epoch 43/75\n",
      "3965/3965 [==============================] - 5s 1ms/step - loss: 0.0685 - val_loss: 0.0666\n",
      "Epoch 44/75\n",
      "3965/3965 [==============================] - 5s 1ms/step - loss: 0.0672 - val_loss: 0.0809\n",
      "Epoch 45/75\n",
      "3965/3965 [==============================] - 5s 1ms/step - loss: 0.0675 - val_loss: 0.0704\n",
      "Epoch 46/75\n",
      "3965/3965 [==============================] - 5s 1ms/step - loss: 0.0679 - val_loss: 0.0654\n",
      "Epoch 47/75\n",
      "3965/3965 [==============================] - 5s 1ms/step - loss: 0.0665 - val_loss: 0.0690\n",
      "Epoch 48/75\n",
      "3965/3965 [==============================] - 5s 1ms/step - loss: 0.0657 - val_loss: 0.0776\n",
      "Epoch 49/75\n",
      "3965/3965 [==============================] - 5s 1ms/step - loss: 0.0661 - val_loss: 0.0661\n",
      "Epoch 50/75\n",
      "3965/3965 [==============================] - 5s 1ms/step - loss: 0.0656 - val_loss: 0.0726\n",
      "Epoch 51/75\n",
      "3965/3965 [==============================] - 5s 1ms/step - loss: 0.0647 - val_loss: 0.0669\n",
      "Epoch 52/75\n",
      "3965/3965 [==============================] - 5s 1ms/step - loss: 0.0654 - val_loss: 0.0667\n",
      "Epoch 53/75\n",
      "3965/3965 [==============================] - 5s 1ms/step - loss: 0.0646 - val_loss: 0.0659\n",
      "Epoch 54/75\n",
      "3965/3965 [==============================] - 5s 1ms/step - loss: 0.0650 - val_loss: 0.0669\n",
      "Epoch 55/75\n",
      "3965/3965 [==============================] - 5s 1ms/step - loss: 0.0637 - val_loss: 0.0655\n",
      "Epoch 56/75\n",
      "3965/3965 [==============================] - 5s 1ms/step - loss: 0.0643 - val_loss: 0.0632\n",
      "Epoch 57/75\n",
      "3965/3965 [==============================] - 5s 1ms/step - loss: 0.0628 - val_loss: 0.0644\n",
      "Epoch 58/75\n",
      "3965/3965 [==============================] - 5s 1ms/step - loss: 0.0621 - val_loss: 0.0660\n",
      "Epoch 59/75\n",
      "3965/3965 [==============================] - 5s 1ms/step - loss: 0.0617 - val_loss: 0.0688\n",
      "Epoch 60/75\n",
      "3965/3965 [==============================] - 5s 1ms/step - loss: 0.0622 - val_loss: 0.0638\n",
      "Epoch 61/75\n",
      "3965/3965 [==============================] - 5s 1ms/step - loss: 0.0627 - val_loss: 0.0739\n",
      "Epoch 62/75\n",
      "3965/3965 [==============================] - 5s 1ms/step - loss: 0.0615 - val_loss: 0.0670\n",
      "Epoch 63/75\n",
      "3965/3965 [==============================] - 5s 1ms/step - loss: 0.0608 - val_loss: 0.0726\n",
      "Epoch 64/75\n",
      "3965/3965 [==============================] - 5s 1ms/step - loss: 0.0607 - val_loss: 0.0621\n",
      "Epoch 65/75\n",
      "3965/3965 [==============================] - 5s 1ms/step - loss: 0.0598 - val_loss: 0.0646\n",
      "Epoch 66/75\n",
      "3965/3965 [==============================] - 5s 1ms/step - loss: 0.0593 - val_loss: 0.0643\n",
      "Epoch 67/75\n",
      "3965/3965 [==============================] - 5s 1ms/step - loss: 0.0604 - val_loss: 0.0632\n",
      "Epoch 68/75\n",
      "3965/3965 [==============================] - 5s 1ms/step - loss: 0.0597 - val_loss: 0.0690\n",
      "Epoch 69/75\n",
      "3965/3965 [==============================] - 5s 1ms/step - loss: 0.0601 - val_loss: 0.0635\n",
      "Epoch 70/75\n",
      "3965/3965 [==============================] - 5s 1ms/step - loss: 0.0597 - val_loss: 0.0773\n",
      "Epoch 71/75\n",
      "3965/3965 [==============================] - 5s 1ms/step - loss: 0.0593 - val_loss: 0.0591\n",
      "Epoch 72/75\n",
      "3965/3965 [==============================] - 5s 1ms/step - loss: 0.0594 - val_loss: 0.0591\n",
      "Epoch 73/75\n",
      "3965/3965 [==============================] - 5s 1ms/step - loss: 0.0583 - val_loss: 0.0583\n",
      "Epoch 74/75\n",
      "3965/3965 [==============================] - 5s 1ms/step - loss: 0.0585 - val_loss: 0.0608\n",
      "Epoch 75/75\n",
      "3965/3965 [==============================] - 5s 1ms/step - loss: 0.0573 - val_loss: 0.0692\n"
     ]
    },
    {
     "data": {
      "text/plain": [
       "<keras.callbacks.History at 0x1879f2acd90>"
      ]
     },
     "execution_count": 101,
     "metadata": {},
     "output_type": "execute_result"
    }
   ],
   "source": [
    "u_model.fit(X_train, Y_train, batch_size=1, epochs=75, validation_split=0.25, shuffle=True)"
   ]
  },
  {
   "cell_type": "code",
   "execution_count": 103,
   "id": "4b110fd1",
   "metadata": {},
   "outputs": [
    {
     "data": {
      "image/png": "[encoded data removed]",
      "text/plain": [
       "<Figure size 432x288 with 1 Axes>"
      ]
     },
     "metadata": {
      "needs_background": "light"
     },
     "output_type": "display_data"
    },
    {
     "data": {
      "image/png": "[encoded data removed]",
      "text/plain": [
       "<Figure size 432x288 with 1 Axes>"
      ]
     },
     "metadata": {
      "needs_background": "light"
     },
     "output_type": "display_data"
    }
   ],
   "source": [
    "Y_hat = u_model.predict(X_test)\n",
    "error = np.abs((Y_hat - Y_test) / Y_test)\n",
    "plt.show(plt.plot(error[:, 0][error[:, 0] > 3]))\n",
    "plt.show(plt.plot(error[:, 1][error[:, 1] > 5]))"
   ]
  },
  {
   "cell_type": "code",
   "execution_count": 104,
   "id": "60b0b578",
   "metadata": {},
   "outputs": [],
   "source": []
  },
  {
   "cell_type": "code",
   "execution_count": 108,
   "id": "8131768b",
   "metadata": {},
   "outputs": [
    {
     "name": "stdout",
     "output_type": "stream",
     "text": [
      "INFO:tensorflow:Assets written to: u_model.hd5\\assets\n"
     ]
    },
    {
     "data": {
      "text/plain": [
       "<keras.engine.sequential.Sequential at 0x187aa15c850>"
      ]
     },
     "execution_count": 108,
     "metadata": {},
     "output_type": "execute_result"
    }
   ],
   "source": []
  },
  {
   "cell_type": "code",
   "execution_count": null,
   "id": "8caf0d6e",
   "metadata": {},
   "outputs": [],
   "source": []
  },
  {
   "cell_type": "code",
   "execution_count": null,
   "id": "563b71b9",
   "metadata": {},
   "outputs": [],
   "source": []
  }
 ],
 "metadata": {
  "kernelspec": {
   "display_name": "Python 3 (ipykernel)",
   "language": "python",
   "name": "python3"
  },
  "language_info": {
   "codemirror_mode": {
    "name": "ipython",
    "version": 3
   },
   "file_extension": ".py",
   "mimetype": "text/x-python",
   "name": "python",
   "nbconvert_exporter": "python",
   "pygments_lexer": "ipython3",
   "version": "3.9.7"
  }
 },
 "nbformat": 4,
 "nbformat_minor": 5
}
